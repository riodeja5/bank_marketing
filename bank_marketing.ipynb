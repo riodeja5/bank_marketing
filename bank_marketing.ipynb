{
 "cells": [
  {
   "cell_type": "code",
   "execution_count": 1,
   "metadata": {},
   "outputs": [],
   "source": [
    "import numpy as np\n",
    "import pandas as pd\n",
    "from sklearn.preprocessing import StandardScaler, Imputer\n",
    "from sklearn.neighbors import KNeighborsClassifier\n",
    "from sklearn.linear_model import LogisticRegression, LogisticRegressionCV\n",
    "from sklearn.svm import SVC, LinearSVC # SVCは非線形SVM（Support Vector Classifier）\n",
    "from sklearn.ensemble import RandomForestClassifier, GradientBoostingClassifier\n",
    "from sklearn.neural_network import MLPClassifier\n",
    "from sklearn.pipeline import Pipeline\n",
    "from sklearn.model_selection import train_test_split, cross_val_score\n",
    "from sklearn.metrics import accuracy_score, precision_score, recall_score, f1_score\n",
    "from xgboost import XGBClassifier\n",
    "from lightgbm import LGBMClassifier\n",
    "# ファイル入出力ライブラリ\n",
    "import pickle"
   ]
  },
  {
   "cell_type": "markdown",
   "metadata": {},
   "source": [
    "# データの読み込み"
   ]
  },
  {
   "cell_type": "code",
   "execution_count": 2,
   "metadata": {},
   "outputs": [],
   "source": [
    "df_input = pd.read_csv('../bank_marketing_train.csv')"
   ]
  },
  {
   "cell_type": "markdown",
   "metadata": {},
   "source": [
    "# 特徴量エンジニアリング"
   ]
  },
  {
   "cell_type": "markdown",
   "metadata": {},
   "source": [
    "### 最終的なペルソナに従い、特徴量を抽出する\n",
    "- age:60以上\n",
    "- job:retired\n",
    "- marital：結婚経験あり\n",
    "- default(クレジットの支払い遅延)：なし\n",
    "- education(最終学歴)：basic.4y\n",
    "- contact(連絡デバイス)：cellular\n",
    "- pdays（前回の接触からの経過日数）：少ない\n",
    "- poutcome（以前のキャンペーン結果）：あり（初めての客でない）\n",
    "- previous(以前のキャンペーンの接触回数)：数が多い（頻繁に連絡をとっている）\n",
    "\n",
    "### ペルソナに用いた説明変数以外で重要なものも含める\n",
    "- emp.var.rate\n",
    "- cons.price.idx\n",
    "- cons.conf.idx"
   ]
  },
  {
   "cell_type": "code",
   "execution_count": 3,
   "metadata": {},
   "outputs": [],
   "source": [
    "df_extract = df_input.loc[:, ['age','job','marital','default','education','contact','pdays','poutcome','previous',\n",
    "                            'emp.var.rate','cons.price.idx','cons.conf.idx','y']]\n",
    "# df_extract = df_input.loc[:, ['age','job','marital','default','education','housing','loan','contact','pdays','poutcome',\n",
    "#                             'previous','emp.var.rate','cons.price.idx','cons.conf.idx','euribor3m','nr.employed','y']]"
   ]
  },
  {
   "cell_type": "code",
   "execution_count": 4,
   "metadata": {},
   "outputs": [
    {
     "data": {
      "text/html": [
       "<div>\n",
       "<style scoped>\n",
       "    .dataframe tbody tr th:only-of-type {\n",
       "        vertical-align: middle;\n",
       "    }\n",
       "\n",
       "    .dataframe tbody tr th {\n",
       "        vertical-align: top;\n",
       "    }\n",
       "\n",
       "    .dataframe thead th {\n",
       "        text-align: right;\n",
       "    }\n",
       "</style>\n",
       "<table border=\"1\" class=\"dataframe\">\n",
       "  <thead>\n",
       "    <tr style=\"text-align: right;\">\n",
       "      <th></th>\n",
       "      <th>age</th>\n",
       "      <th>job</th>\n",
       "      <th>marital</th>\n",
       "      <th>default</th>\n",
       "      <th>education</th>\n",
       "      <th>contact</th>\n",
       "      <th>pdays</th>\n",
       "      <th>poutcome</th>\n",
       "      <th>previous</th>\n",
       "      <th>emp.var.rate</th>\n",
       "      <th>cons.price.idx</th>\n",
       "      <th>cons.conf.idx</th>\n",
       "      <th>y</th>\n",
       "    </tr>\n",
       "  </thead>\n",
       "  <tbody>\n",
       "    <tr>\n",
       "      <th>0</th>\n",
       "      <td>56</td>\n",
       "      <td>housemaid</td>\n",
       "      <td>married</td>\n",
       "      <td>no</td>\n",
       "      <td>basic.4y</td>\n",
       "      <td>telephone</td>\n",
       "      <td>999</td>\n",
       "      <td>nonexistent</td>\n",
       "      <td>0</td>\n",
       "      <td>1.1</td>\n",
       "      <td>93.994</td>\n",
       "      <td>-36.4</td>\n",
       "      <td>no</td>\n",
       "    </tr>\n",
       "    <tr>\n",
       "      <th>1</th>\n",
       "      <td>57</td>\n",
       "      <td>services</td>\n",
       "      <td>married</td>\n",
       "      <td>unknown</td>\n",
       "      <td>high.school</td>\n",
       "      <td>telephone</td>\n",
       "      <td>999</td>\n",
       "      <td>nonexistent</td>\n",
       "      <td>0</td>\n",
       "      <td>1.1</td>\n",
       "      <td>93.994</td>\n",
       "      <td>-36.4</td>\n",
       "      <td>no</td>\n",
       "    </tr>\n",
       "  </tbody>\n",
       "</table>\n",
       "</div>"
      ],
      "text/plain": [
       "   age        job  marital  default    education    contact  pdays  \\\n",
       "0   56  housemaid  married       no     basic.4y  telephone    999   \n",
       "1   57   services  married  unknown  high.school  telephone    999   \n",
       "\n",
       "      poutcome  previous  emp.var.rate  cons.price.idx  cons.conf.idx   y  \n",
       "0  nonexistent         0           1.1          93.994          -36.4  no  \n",
       "1  nonexistent         0           1.1          93.994          -36.4  no  "
      ]
     },
     "execution_count": 4,
     "metadata": {},
     "output_type": "execute_result"
    }
   ],
   "source": [
    "df_extract.head(2)"
   ]
  },
  {
   "cell_type": "markdown",
   "metadata": {},
   "source": [
    "### 特徴量と目的変数に分ける"
   ]
  },
  {
   "cell_type": "code",
   "execution_count": 5,
   "metadata": {},
   "outputs": [],
   "source": [
    "df_X = df_extract.drop('y', axis=1)"
   ]
  },
  {
   "cell_type": "code",
   "execution_count": 6,
   "metadata": {},
   "outputs": [
    {
     "data": {
      "text/html": [
       "<div>\n",
       "<style scoped>\n",
       "    .dataframe tbody tr th:only-of-type {\n",
       "        vertical-align: middle;\n",
       "    }\n",
       "\n",
       "    .dataframe tbody tr th {\n",
       "        vertical-align: top;\n",
       "    }\n",
       "\n",
       "    .dataframe thead th {\n",
       "        text-align: right;\n",
       "    }\n",
       "</style>\n",
       "<table border=\"1\" class=\"dataframe\">\n",
       "  <thead>\n",
       "    <tr style=\"text-align: right;\">\n",
       "      <th></th>\n",
       "      <th>age</th>\n",
       "      <th>job</th>\n",
       "      <th>marital</th>\n",
       "      <th>default</th>\n",
       "      <th>education</th>\n",
       "      <th>contact</th>\n",
       "      <th>pdays</th>\n",
       "      <th>poutcome</th>\n",
       "      <th>previous</th>\n",
       "      <th>emp.var.rate</th>\n",
       "      <th>cons.price.idx</th>\n",
       "      <th>cons.conf.idx</th>\n",
       "    </tr>\n",
       "  </thead>\n",
       "  <tbody>\n",
       "    <tr>\n",
       "      <th>0</th>\n",
       "      <td>56</td>\n",
       "      <td>housemaid</td>\n",
       "      <td>married</td>\n",
       "      <td>no</td>\n",
       "      <td>basic.4y</td>\n",
       "      <td>telephone</td>\n",
       "      <td>999</td>\n",
       "      <td>nonexistent</td>\n",
       "      <td>0</td>\n",
       "      <td>1.1</td>\n",
       "      <td>93.994</td>\n",
       "      <td>-36.4</td>\n",
       "    </tr>\n",
       "    <tr>\n",
       "      <th>1</th>\n",
       "      <td>57</td>\n",
       "      <td>services</td>\n",
       "      <td>married</td>\n",
       "      <td>unknown</td>\n",
       "      <td>high.school</td>\n",
       "      <td>telephone</td>\n",
       "      <td>999</td>\n",
       "      <td>nonexistent</td>\n",
       "      <td>0</td>\n",
       "      <td>1.1</td>\n",
       "      <td>93.994</td>\n",
       "      <td>-36.4</td>\n",
       "    </tr>\n",
       "  </tbody>\n",
       "</table>\n",
       "</div>"
      ],
      "text/plain": [
       "   age        job  marital  default    education    contact  pdays  \\\n",
       "0   56  housemaid  married       no     basic.4y  telephone    999   \n",
       "1   57   services  married  unknown  high.school  telephone    999   \n",
       "\n",
       "      poutcome  previous  emp.var.rate  cons.price.idx  cons.conf.idx  \n",
       "0  nonexistent         0           1.1          93.994          -36.4  \n",
       "1  nonexistent         0           1.1          93.994          -36.4  "
      ]
     },
     "execution_count": 6,
     "metadata": {},
     "output_type": "execute_result"
    }
   ],
   "source": [
    "df_X.head(2)"
   ]
  },
  {
   "cell_type": "code",
   "execution_count": 7,
   "metadata": {},
   "outputs": [],
   "source": [
    "df_y = df_extract['y']"
   ]
  },
  {
   "cell_type": "code",
   "execution_count": 8,
   "metadata": {},
   "outputs": [
    {
     "data": {
      "text/plain": [
       "0    no\n",
       "1    no\n",
       "Name: y, dtype: object"
      ]
     },
     "execution_count": 8,
     "metadata": {},
     "output_type": "execute_result"
    }
   ],
   "source": [
    "df_y.head(2)"
   ]
  },
  {
   "cell_type": "markdown",
   "metadata": {},
   "source": [
    "### 目的変数のyes/noを1/0に変換"
   ]
  },
  {
   "cell_type": "code",
   "execution_count": 9,
   "metadata": {},
   "outputs": [],
   "source": [
    "df_y_val = df_y.apply(lambda x: 1 if x == 'yes' else 0)"
   ]
  },
  {
   "cell_type": "code",
   "execution_count": 10,
   "metadata": {},
   "outputs": [
    {
     "data": {
      "text/plain": [
       "0    0\n",
       "1    0\n",
       "Name: y, dtype: int64"
      ]
     },
     "execution_count": 10,
     "metadata": {},
     "output_type": "execute_result"
    }
   ],
   "source": [
    "df_y_val.head(2)"
   ]
  },
  {
   "cell_type": "markdown",
   "metadata": {},
   "source": [
    "### Dummyエンコーディング"
   ]
  },
  {
   "cell_type": "code",
   "execution_count": 14,
   "metadata": {},
   "outputs": [],
   "source": [
    "# カテゴリカル変数\n",
    "categorical_columns = ['job','marital','default','education','contact','poutcome']"
   ]
  },
  {
   "cell_type": "code",
   "execution_count": 15,
   "metadata": {},
   "outputs": [],
   "source": [
    "df_X_dm = pd.get_dummies(data=df_X, dummy_na=True, drop_first=True, columns=categorical_columns)"
   ]
  },
  {
   "cell_type": "code",
   "execution_count": 16,
   "metadata": {},
   "outputs": [
    {
     "data": {
      "text/plain": [
       "Index(['age', 'pdays', 'previous', 'emp.var.rate', 'cons.price.idx',\n",
       "       'cons.conf.idx', 'job_blue-collar', 'job_entrepreneur', 'job_housemaid',\n",
       "       'job_management', 'job_retired', 'job_self-employed', 'job_services',\n",
       "       'job_student', 'job_technician', 'job_unemployed', 'job_unknown',\n",
       "       'job_nan', 'marital_married', 'marital_single', 'marital_unknown',\n",
       "       'marital_nan', 'default_unknown', 'default_yes', 'default_nan',\n",
       "       'education_basic.6y', 'education_basic.9y', 'education_high.school',\n",
       "       'education_illiterate', 'education_professional.course',\n",
       "       'education_university.degree', 'education_unknown', 'education_nan',\n",
       "       'contact_telephone', 'contact_nan', 'poutcome_nonexistent',\n",
       "       'poutcome_success', 'poutcome_nan'],\n",
       "      dtype='object')"
      ]
     },
     "execution_count": 16,
     "metadata": {},
     "output_type": "execute_result"
    }
   ],
   "source": [
    "df_X_dm.columns"
   ]
  },
  {
   "cell_type": "markdown",
   "metadata": {},
   "source": [
    "### 機械学習モデルに入力するためNumpy配列に変換"
   ]
  },
  {
   "cell_type": "code",
   "execution_count": 17,
   "metadata": {},
   "outputs": [],
   "source": [
    "y = np.array(df_y_val)\n",
    "X = np.array(df_X_dm)"
   ]
  },
  {
   "cell_type": "code",
   "execution_count": 18,
   "metadata": {},
   "outputs": [
    {
     "name": "stdout",
     "output_type": "stream",
     "text": [
      "[0 0 0 ..., 1 1 0]\n",
      "[[  56.  999.    0. ...,    1.    0.    0.]\n",
      " [  57.  999.    0. ...,    1.    0.    0.]\n",
      " [  56.  999.    0. ...,    1.    0.    0.]\n",
      " ..., \n",
      " [  73.  999.    0. ...,    1.    0.    0.]\n",
      " [  44.  999.    0. ...,    1.    0.    0.]\n",
      " [  74.  999.    1. ...,    0.    0.    0.]]\n"
     ]
    }
   ],
   "source": [
    "print(y)\n",
    "print(X)"
   ]
  },
  {
   "cell_type": "markdown",
   "metadata": {},
   "source": [
    "### HoldOut"
   ]
  },
  {
   "cell_type": "code",
   "execution_count": 19,
   "metadata": {},
   "outputs": [],
   "source": [
    "# X_train, X_test, y_train, y_test = train_test_split(df_X_dm, df_y_val, test_size=0.3, random_state=1)\n",
    "X_train, X_test, y_train, y_test = train_test_split(X, y, test_size=0.3, random_state=1)"
   ]
  },
  {
   "cell_type": "markdown",
   "metadata": {},
   "source": [
    "# Modelの生成"
   ]
  },
  {
   "cell_type": "code",
   "execution_count": 20,
   "metadata": {},
   "outputs": [],
   "source": [
    "logistic = Pipeline([('scl',StandardScaler()), ('est',LogisticRegression(random_state=1, class_weight=\"balanced\"))])\n",
    "# random_forest = Pipeline([('scl',StandardScaler()), ('est',RandomForestClassifier(random_state=1, class_weight=\"balanced\"))])\n",
    "# xgb = Pipeline([('scl',StandardScaler()), ('est',XGBClassifier(random_state=1, class_weight=\"balanced\"))])\n",
    "# lgbm = Pipeline([('scl',StandardScaler()), ('est',LGBMClassifier(random_state=1, class_weight=\"balanced\"))])"
   ]
  },
  {
   "cell_type": "markdown",
   "metadata": {},
   "source": [
    "# 学習"
   ]
  },
  {
   "cell_type": "code",
   "execution_count": 21,
   "metadata": {},
   "outputs": [
    {
     "name": "stderr",
     "output_type": "stream",
     "text": [
      "C:\\Users\\riode\\Anaconda3\\lib\\site-packages\\sklearn\\linear_model\\logistic.py:433: FutureWarning: Default solver will be changed to 'lbfgs' in 0.22. Specify a solver to silence this warning.\n",
      "  FutureWarning)\n"
     ]
    },
    {
     "data": {
      "text/plain": [
       "Pipeline(memory=None,\n",
       "     steps=[('scl', StandardScaler(copy=True, with_mean=True, with_std=True)), ('est', LogisticRegression(C=1.0, class_weight='balanced', dual=False,\n",
       "          fit_intercept=True, intercept_scaling=1, max_iter=100,\n",
       "          multi_class='warn', n_jobs=None, penalty='l2', random_state=1,\n",
       "          solver='warn', tol=0.0001, verbose=0, warm_start=False))])"
      ]
     },
     "execution_count": 21,
     "metadata": {},
     "output_type": "execute_result"
    }
   ],
   "source": [
    "logistic.fit(X_train, y_train)\n",
    "# random_forest.fit(X_train, y_train)\n",
    "# xgb.fit(X_train, y_train)\n",
    "# lgbm.fit(X_train, y_train)"
   ]
  },
  {
   "cell_type": "markdown",
   "metadata": {},
   "source": [
    "# 予測"
   ]
  },
  {
   "cell_type": "code",
   "execution_count": 22,
   "metadata": {},
   "outputs": [],
   "source": [
    "y_pred_proba = logistic.predict_proba(X_test)\n",
    "# y_pred_proba = random_forest.predict_proba(X_test)\n",
    "# y_pred_proba = xgb.predict_proba(X_test)\n",
    "# y_pred_proba = lgbm.predict_proba(X_test)"
   ]
  },
  {
   "cell_type": "markdown",
   "metadata": {},
   "source": [
    "# ベストな閾値を求める"
   ]
  },
  {
   "cell_type": "markdown",
   "metadata": {},
   "source": [
    "### ROIの計算処理"
   ]
  },
  {
   "cell_type": "code",
   "execution_count": 23,
   "metadata": {},
   "outputs": [],
   "source": [
    "def calc_roi(y_list: np.ndarray, attack_list: np.ndarray) -> int:\n",
    "    roi = 0\n",
    "    for (yes, attack) in zip(y_list, attack_list):\n",
    "    #     print(yes, attack)\n",
    "        if attack == 1:\n",
    "            roi += 5000*yes - 500*attack\n",
    "\n",
    "    return roi"
   ]
  },
  {
   "cell_type": "markdown",
   "metadata": {},
   "source": [
    "### 閾値を変えてROIを計算"
   ]
  },
  {
   "cell_type": "code",
   "execution_count": 24,
   "metadata": {},
   "outputs": [],
   "source": [
    "best_roi = 0\n",
    "best_threshold = 0\n",
    "best_attack_list = np.ndarray([])\n",
    "\n",
    "for threshold in np.arange(0, 1.01, 0.01):\n",
    "    attack_list = (y_pred_proba[:, 1] > threshold).astype(int)\n",
    "    roi = calc_roi(y_test, attack_list)\n",
    "#     print('threshold:', threshold, ', roi:', roi)\n",
    "    if roi > best_roi:\n",
    "        best_roi = roi\n",
    "        best_threshold = threshold\n",
    "        best_attack_list = attack_list"
   ]
  },
  {
   "cell_type": "code",
   "execution_count": 25,
   "metadata": {},
   "outputs": [
    {
     "name": "stdout",
     "output_type": "stream",
     "text": [
      "2329000\n",
      "0.53\n",
      "[0 0 1 ..., 0 0 1]\n"
     ]
    }
   ],
   "source": [
    "print(best_roi)\n",
    "print(best_threshold)\n",
    "print(best_attack_list)"
   ]
  },
  {
   "cell_type": "markdown",
   "metadata": {},
   "source": [
    "### ベストな閾値は上の通り"
   ]
  },
  {
   "cell_type": "markdown",
   "metadata": {},
   "source": [
    "# 複数モデルの中からベストモデルを選ぶ"
   ]
  },
  {
   "cell_type": "markdown",
   "metadata": {},
   "source": [
    "### 複数モデルを構築"
   ]
  },
  {
   "cell_type": "code",
   "execution_count": 26,
   "metadata": {},
   "outputs": [],
   "source": [
    "pipelines = {\n",
    "            'knn':\n",
    "                Pipeline([('scl',StandardScaler()), ('est',KNeighborsClassifier())]),\n",
    "            'logistic':\n",
    "                Pipeline([('scl',StandardScaler()), ('est',LogisticRegression(random_state=1, class_weight=\"balanced\"))]),\n",
    "            'rsvc':\n",
    "                Pipeline([('scl',StandardScaler()), ('est',SVC(C=1.0,kernel='rbf',class_weight='balanced',random_state=1, probability=True))]),\n",
    "#             'lsvc':\n",
    "#                 Pipeline([('scl',StandardScaler()), ('est',LinearSVC(C=1.0,random_state=1,class_weight='balanced'))]),\n",
    "            'rf':\n",
    "                Pipeline([('scl',StandardScaler()), ('est',RandomForestClassifier(random_state=1, class_weight=\"balanced\"))]),\n",
    "            'gb':\n",
    "                Pipeline([('scl',StandardScaler()), ('est',GradientBoostingClassifier(random_state=1))]),\n",
    "            'mlp':\n",
    "                Pipeline([('scl',StandardScaler()), ('est',MLPClassifier(hidden_layer_sizes=(5,3), max_iter=500, random_state=1))]),\n",
    "            'xgb':\n",
    "                Pipeline([('scl',StandardScaler()), ('est',XGBClassifier(random_state=1, class_weight=\"balanced\"))]),\n",
    "            'lgbm':\n",
    "                Pipeline([('scl',StandardScaler()), ('est',LGBMClassifier(random_state=1, class_weight=\"balanced\"))]),\n",
    "    }"
   ]
  },
  {
   "cell_type": "markdown",
   "metadata": {},
   "source": [
    "### 各モデルのROIを求める"
   ]
  },
  {
   "cell_type": "code",
   "execution_count": 27,
   "metadata": {},
   "outputs": [
    {
     "name": "stderr",
     "output_type": "stream",
     "text": [
      "C:\\Users\\riode\\Anaconda3\\lib\\site-packages\\sklearn\\linear_model\\logistic.py:433: FutureWarning: Default solver will be changed to 'lbfgs' in 0.22. Specify a solver to silence this warning.\n",
      "  FutureWarning)\n",
      "C:\\Users\\riode\\Anaconda3\\lib\\site-packages\\sklearn\\svm\\base.py:196: FutureWarning: The default value of gamma will change from 'auto' to 'scale' in version 0.22 to account better for unscaled features. Set gamma explicitly to 'auto' or 'scale' to avoid this warning.\n",
      "  \"avoid this warning.\", FutureWarning)\n",
      "C:\\Users\\riode\\Anaconda3\\lib\\site-packages\\sklearn\\ensemble\\forest.py:246: FutureWarning: The default value of n_estimators will change from 10 in version 0.20 to 100 in 0.22.\n",
      "  \"10 in version 0.20 to 100 in 0.22.\", FutureWarning)\n"
     ]
    }
   ],
   "source": [
    "model_info = {}\n",
    "for pipe_name, pipeline in pipelines.items():\n",
    "    # 学習\n",
    "    pipeline.fit(X_train, y_train)\n",
    "    # 予測\n",
    "    y_pred_proba = pipeline.predict_proba(X_test)\n",
    "    \n",
    "    best_roi = 0\n",
    "    best_threshold = 0\n",
    "    best_attack_list = np.ndarray([])\n",
    "\n",
    "    for threshold in np.arange(0, 1.01, 0.01):\n",
    "        attack_list = (y_pred_proba[:, 1] > threshold).astype(int)\n",
    "        roi = calc_roi(y_test, attack_list)\n",
    "    #     print('threshold:', threshold, ', roi:', roi)\n",
    "        if roi > best_roi:\n",
    "            best_roi = roi\n",
    "            best_threshold = threshold\n",
    "            best_attack_list = attack_list\n",
    "    \n",
    "    model_info[pipe_name] = {'model': pipeline, 'roi': best_roi, 'threshold': best_threshold, 'attack_list': best_attack_list}"
   ]
  },
  {
   "cell_type": "markdown",
   "metadata": {},
   "source": [
    "### # 各モデルのベストROIと閾値を確認"
   ]
  },
  {
   "cell_type": "code",
   "execution_count": 28,
   "metadata": {},
   "outputs": [
    {
     "name": "stdout",
     "output_type": "stream",
     "text": [
      "knn\n",
      " roi       : 1738000\n",
      " threshold : 0.2\n",
      "logistic\n",
      " roi       : 2329000\n",
      " threshold : 0.53\n",
      "rsvc\n",
      " roi       : 2333000\n",
      " threshold : 0.15\n",
      "rf\n",
      " roi       : 1807500\n",
      " threshold : 0.19\n",
      "gb\n",
      " roi       : 2484000\n",
      " threshold : 0.13\n",
      "mlp\n",
      " roi       : 2354000\n",
      " threshold : 0.11\n",
      "xgb\n",
      " roi       : 2482000\n",
      " threshold : 0.13\n",
      "lgbm\n",
      " roi       : 2439500\n",
      " threshold : 0.54\n"
     ]
    }
   ],
   "source": [
    "for model_name, info in model_info.items():\n",
    "    print(model_name)\n",
    "    print(' roi       :', info['roi'])\n",
    "    print(' threshold :', info['threshold'])"
   ]
  },
  {
   "cell_type": "markdown",
   "metadata": {},
   "source": [
    "# アタックリストの作成"
   ]
  },
  {
   "cell_type": "code",
   "execution_count": 33,
   "metadata": {},
   "outputs": [],
   "source": [
    "def make_attack_list(dataset: pd.DataFrame, model: Pipeline, threshold: float) -> np.ndarray:\n",
    "\n",
    "    # ペルソナに用いた説明変数、重要な説明変数を含める(yは含めないように注意)\n",
    "    df_X = dataset.loc[:, ['age','job','marital','default','education','contact','pdays','poutcome','previous',\n",
    "                            'emp.var.rate','cons.price.idx','cons.conf.idx']]\n",
    "    \n",
    "    # Dummyエンコーディング\n",
    "    categorical_columns = ['job','marital','default','education','contact','poutcome']\n",
    "    df_X_dm = pd.get_dummies(data=df_X, dummy_na=True, drop_first=True, columns=categorical_columns)\n",
    "    \n",
    "    # 機械学習モデルに入力するためNumpy配列に変換\n",
    "    X = np.array(df_X_dm)\n",
    "    \n",
    "    # Modelの生成\n",
    "    y_pred_proba = model.predict_proba(X)\n",
    "    \n",
    "    # アタックリストの作成\n",
    "    attack_list = (y_pred_proba[:, 1] > threshold).astype(int)\n",
    "    \n",
    "    return attack_list"
   ]
  },
  {
   "cell_type": "code",
   "execution_count": 34,
   "metadata": {},
   "outputs": [],
   "source": [
    "# 当日はテストデータを読み込む\n",
    "df_test = pd.read_csv('../bank_marketing_train.csv')\n",
    "final_attack_list = make_attack_list(df_test, model_info['xgb']['model'], model_info['xgb']['threshold'])"
   ]
  },
  {
   "cell_type": "code",
   "execution_count": 35,
   "metadata": {},
   "outputs": [
    {
     "data": {
      "text/plain": [
       "array([0, 0, 0, ..., 1, 1, 1])"
      ]
     },
     "execution_count": 35,
     "metadata": {},
     "output_type": "execute_result"
    }
   ],
   "source": [
    "final_attack_list"
   ]
  },
  {
   "cell_type": "markdown",
   "metadata": {},
   "source": [
    "### アタックリストをcsv出力"
   ]
  },
  {
   "cell_type": "code",
   "execution_count": 36,
   "metadata": {},
   "outputs": [],
   "source": [
    "np.savetxt('attack.csv', final_attack_list,delimiter=',', fmt='%d')"
   ]
  },
  {
   "cell_type": "markdown",
   "metadata": {},
   "source": [
    "# 期待される収益"
   ]
  },
  {
   "cell_type": "code",
   "execution_count": 37,
   "metadata": {},
   "outputs": [],
   "source": [
    "# yのリストを求める\n",
    "y = df_test['y']\n",
    "y_val = y.apply(lambda x: 1 if x == 'yes' else 0)\n",
    "y_list = np.array(y_val)"
   ]
  },
  {
   "cell_type": "code",
   "execution_count": 38,
   "metadata": {},
   "outputs": [
    {
     "data": {
      "text/plain": [
       "8597500"
      ]
     },
     "execution_count": 38,
     "metadata": {},
     "output_type": "execute_result"
    }
   ],
   "source": [
    "# ROIの計算\n",
    "calc_roi(y_list=y_list, attack_list=final_attack_list)"
   ]
  },
  {
   "cell_type": "markdown",
   "metadata": {},
   "source": [
    "### （おまけ）yをすべて当てた時の理想収益"
   ]
  },
  {
   "cell_type": "code",
   "execution_count": 39,
   "metadata": {},
   "outputs": [
    {
     "data": {
      "text/plain": [
       "17082000"
      ]
     },
     "execution_count": 39,
     "metadata": {},
     "output_type": "execute_result"
    }
   ],
   "source": [
    "y_val[y_val == 1].size * (5000-500)"
   ]
  },
  {
   "cell_type": "code",
   "execution_count": 42,
   "metadata": {},
   "outputs": [
    {
     "data": {
      "text/plain": [
       "16969.0"
      ]
     },
     "execution_count": 42,
     "metadata": {},
     "output_type": "execute_result"
    }
   ],
   "source": [
    "# 予測を外した件数\n",
    "(17082000-8597500)/500"
   ]
  },
  {
   "cell_type": "markdown",
   "metadata": {},
   "source": [
    "# Modelの予測精度"
   ]
  },
  {
   "cell_type": "code",
   "execution_count": 43,
   "metadata": {},
   "outputs": [
    {
     "name": "stdout",
     "output_type": "stream",
     "text": [
      "accuracy  : 0.843972261735\n",
      "recall    : 0.6145943098\n",
      "precision : 0.380277098615\n",
      "f1        : 0.469841909173\n"
     ]
    }
   ],
   "source": [
    "print('accuracy  :', accuracy_score(y_true=y_list, y_pred=final_attack_list))\n",
    "print('recall    :', recall_score(y_true=y_list, y_pred=final_attack_list))\n",
    "print('precision :', precision_score(y_true=y_list, y_pred=final_attack_list))\n",
    "print('f1        :', f1_score(y_true=y_list, y_pred=final_attack_list))"
   ]
  },
  {
   "cell_type": "code",
   "execution_count": null,
   "metadata": {},
   "outputs": [],
   "source": []
  }
 ],
 "metadata": {
  "kernelspec": {
   "display_name": "Python 3",
   "language": "python",
   "name": "python3"
  },
  "language_info": {
   "codemirror_mode": {
    "name": "ipython",
    "version": 3
   },
   "file_extension": ".py",
   "mimetype": "text/x-python",
   "name": "python",
   "nbconvert_exporter": "python",
   "pygments_lexer": "ipython3",
   "version": "3.6.5"
  }
 },
 "nbformat": 4,
 "nbformat_minor": 2
}
