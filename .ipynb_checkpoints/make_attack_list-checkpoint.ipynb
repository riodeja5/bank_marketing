{
 "cells": [
  {
   "cell_type": "code",
   "execution_count": null,
   "metadata": {},
   "outputs": [],
   "source": [
    "def make_attack_list(dataset: pd.DataFrame) -> np.ndarray:\n",
    "\n",
    "    # ペルソナに用いた説明変数、重要な説明変数を含める(yは含めないように注意)\n",
    "    df_X = dataset.loc[:, ['age','job','marital','default','education','contact','pdays','poutcome',\n",
    "                            'emp.var.rate','cons.price.idx','cons.conf.idx']]\n",
    "    \n",
    "    # Dummyエンコーディング\n",
    "    categorical_columns = ['job','marital','default','education','contact','poutcome']\n",
    "    df_X_dm = pd.get_dummies(data=df_X, dummy_na=True, drop_first=True, columns=categorical_columns)\n",
    "    \n",
    "    # 機械学習モデルに入力するためNumpy配列に変換\n",
    "    X = np.array(df_X_dm)\n",
    "    \n",
    "    "
   ]
  },
  {
   "cell_type": "code",
   "execution_count": null,
   "metadata": {},
   "outputs": [],
   "source": [
    "df_input = pd.read_csv('../bank_marketing_train.csv')"
   ]
  }
 ],
 "metadata": {
  "kernelspec": {
   "display_name": "Python 3",
   "language": "python",
   "name": "python3"
  },
  "language_info": {
   "codemirror_mode": {
    "name": "ipython",
    "version": 3
   },
   "file_extension": ".py",
   "mimetype": "text/x-python",
   "name": "python",
   "nbconvert_exporter": "python",
   "pygments_lexer": "ipython3",
   "version": "3.6.5"
  }
 },
 "nbformat": 4,
 "nbformat_minor": 2
}
